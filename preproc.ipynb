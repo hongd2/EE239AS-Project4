{
 "cells": [
  {
   "cell_type": "code",
   "execution_count": null,
   "metadata": {
    "collapsed": false
   },
   "outputs": [],
   "source": [
    "from os import listdir\n",
    "from feature_extract import feature_extract\n",
    "\n",
    "files = listdir('../tweet_data')\n",
    "print(files)\n",
    "\n",
    "from os.path import splitext\n",
    "\n",
    "import re\n",
    "\n",
    "for fname in files:\n",
    "    m = re.search('#.+', splitext(files[0])[0])\n",
    "    if m:\n",
    "        hashtag = m.group()\n",
    "        print(\"Processing '%s'\" % hashtag)\n",
    "    outfile = splitext(fname)[0] + '.csv'\n",
    "    print(\"Output file name '%s'\" % outfile)\n",
    "\n",
    "    f_handle = open('../tweet_data/'+fname, encoding=\"utf8\")\n",
    "    feature_extract(f_handle, outfile)\n",
    "    f_handle.close()\n",
    "    #import pdb; pdb.set_trace()\n"
   ]
  }
 ],
 "metadata": {
  "kernelspec": {
   "display_name": "Python 3",
   "language": "python",
   "name": "python3"
  },
  "language_info": {
   "codemirror_mode": {
    "name": "ipython",
    "version": 3
   },
   "file_extension": ".py",
   "mimetype": "text/x-python",
   "name": "python",
   "nbconvert_exporter": "python",
   "pygments_lexer": "ipython3",
   "version": "3.4.4"
  }
 },
 "nbformat": 4,
 "nbformat_minor": 0
}
