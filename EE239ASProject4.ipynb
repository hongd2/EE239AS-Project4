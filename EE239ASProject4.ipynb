{
 "cells": [
  {
   "cell_type": "code",
   "execution_count": 237,
   "metadata": {
    "collapsed": false
   },
   "outputs": [
    {
     "name": "stdout",
     "output_type": "stream",
     "text": [
      "['tweets_#gohawks.txt', 'tweets_#gopatriots.txt', 'tweets_#nfl.txt', 'tweets_#patriots.txt', 'tweets_#sb49.txt', 'tweets_#superbowl.txt']\n",
      "Processing '#gohawks'\n",
      "Output file name 'tweets_#gohawks.csv'\n"
     ]
    },
    {
     "ename": "NameError",
     "evalue": "global name 'json' is not defined",
     "output_type": "error",
     "traceback": [
      "\u001b[0;31m---------------------------------------------------------------------------\u001b[0m",
      "\u001b[0;31mNameError\u001b[0m                                 Traceback (most recent call last)",
      "\u001b[0;32m<ipython-input-237-ea930b43c5b6>\u001b[0m in \u001b[0;36m<module>\u001b[0;34m()\u001b[0m\n\u001b[1;32m     26\u001b[0m \u001b[0;34m\u001b[0m\u001b[0m\n\u001b[1;32m     27\u001b[0m     \u001b[0mf_handle\u001b[0m \u001b[0;34m=\u001b[0m \u001b[0mopen\u001b[0m\u001b[0;34m(\u001b[0m\u001b[0;34m'../tweet_data/'\u001b[0m\u001b[0;34m+\u001b[0m\u001b[0mfname\u001b[0m\u001b[0;34m)\u001b[0m\u001b[0;34m\u001b[0m\u001b[0m\n\u001b[0;32m---> 28\u001b[0;31m     \u001b[0mfeature_extract\u001b[0m\u001b[0;34m(\u001b[0m\u001b[0mf_handle\u001b[0m\u001b[0;34m,\u001b[0m \u001b[0moutfile\u001b[0m\u001b[0;34m)\u001b[0m\u001b[0;34m\u001b[0m\u001b[0m\n\u001b[0m\u001b[1;32m     29\u001b[0m     \u001b[0mf\u001b[0m\u001b[0;34m.\u001b[0m\u001b[0mclose\u001b[0m\u001b[0;34m(\u001b[0m\u001b[0;34m)\u001b[0m\u001b[0;34m\u001b[0m\u001b[0m\n\u001b[1;32m     30\u001b[0m     \u001b[0;32mbreak\u001b[0m\u001b[0;34m;\u001b[0m\u001b[0;34m\u001b[0m\u001b[0m\n",
      "\u001b[0;32m/Users/hjin/Dropbox/Winter 2016/EE239AS/Projects/Project4/EE239AS-Project4/feature_extract.py\u001b[0m in \u001b[0;36mfeature_extract\u001b[0;34m(f, o_file)\u001b[0m\n\u001b[1;32m      1\u001b[0m \u001b[0;32mimport\u001b[0m \u001b[0mjson\u001b[0m\u001b[0;34m\u001b[0m\u001b[0m\n\u001b[1;32m      2\u001b[0m \u001b[0;32mimport\u001b[0m \u001b[0mtime\u001b[0m\u001b[0;34m\u001b[0m\u001b[0m\n\u001b[0;32m----> 3\u001b[0;31m \u001b[0;32mfrom\u001b[0m \u001b[0mdatetime\u001b[0m \u001b[0;32mimport\u001b[0m \u001b[0mdate\u001b[0m\u001b[0;34m\u001b[0m\u001b[0m\n\u001b[0m\u001b[1;32m      4\u001b[0m \u001b[0;34m\u001b[0m\u001b[0m\n\u001b[1;32m      5\u001b[0m \u001b[0;32mdef\u001b[0m \u001b[0mfeature_extract\u001b[0m\u001b[0;34m(\u001b[0m\u001b[0mf\u001b[0m\u001b[0;34m,\u001b[0m \u001b[0mo_file\u001b[0m\u001b[0;34m)\u001b[0m\u001b[0;34m:\u001b[0m\u001b[0;34m\u001b[0m\u001b[0m\n",
      "\u001b[0;31mNameError\u001b[0m: global name 'json' is not defined"
     ]
    }
   ],
   "source": [
    "import json\n",
    "import time\n",
    "from datetime import date\n",
    "import pprint\n",
    "from os import listdir\n",
    "from feature_extract import feature_extract\n",
    "\n",
    "HOUR_INDEX = 3\n",
    "MINUTE_INDEX = 4\n",
    "SECOND_INDEX = 5\n",
    "    \n",
    "files = listdir('../tweet_data')\n",
    "print files\n",
    "\n",
    "from os.path import splitext\n",
    "\n",
    "import re\n",
    "\n",
    "for fname in files:\n",
    "    m = re.search('#.+', splitext(files[0])[0])\n",
    "    if m:\n",
    "        hashtag = m.group()\n",
    "        print \"Processing '%s'\" % hashtag\n",
    "    outfile = splitext(fname)[0] + '.csv'\n",
    "    print \"Output file name '%s'\" % outfile\n",
    "    \n",
    "    f_handle = open('../tweet_data/'+fname)\n",
    "    feature_extract(f_handle, outfile)\n",
    "    f.close()\n",
    "    break;"
   ]
  },
  {
   "cell_type": "code",
   "execution_count": 226,
   "metadata": {
    "collapsed": false
   },
   "outputs": [
    {
     "data": {
      "text/plain": [
       "True"
      ]
     },
     "execution_count": 226,
     "metadata": {},
     "output_type": "execute_result"
    }
   ],
   "source": [
    "f = open('../tweet_data/tweets_#gohawks.txt')\n",
    "line = f.readline()\n",
    "tweet = json.loads(line)\n",
    "\n",
    "tweet_time = tweet['firstpost_date']\n",
    "start_time = list(time.localtime(tweet['firstpost_date']))\n",
    "\n",
    "from datetime import date\n",
    "start_date = date.fromtimestamp(float(tweet_time))\n",
    "test = date(2014, 12, 30)\n",
    "test > start_date"
   ]
  },
  {
   "cell_type": "code",
   "execution_count": 233,
   "metadata": {
    "collapsed": false
   },
   "outputs": [],
   "source": [
    "import json\n",
    "from datetime import date\n",
    "\n",
    "def feature_extract(f, o_file):\n",
    "    line = f.readline()\n",
    "    tweet = json.loads(line)\n",
    "\n",
    "    n_tweets = 0 # number of tweets per hour\n",
    "    n_followers = {} # number of followers of users posting the tweets per hour\n",
    "    n_retweets = 0 # number of retweets per hour\n",
    "    num_window = 0 # total number of hours\n",
    "\n",
    "    user_follower = {}\n",
    "\n",
    "    # outputs\n",
    "    import numpy as np\n",
    "\n",
    "    \"\"\"\n",
    "    output: n_tweets  n_retweets  sum_followers  max_followers  hour\n",
    "    \"\"\"\n",
    "    output = np.empty([0, 5], dtype='int')\n",
    "\n",
    "    # get start hour from first tweet\n",
    "    start_time = list(time.localtime(tweet['firstpost_date']))\n",
    "    start_time[MINUTE_INDEX] = 0; start_time[SECOND_INDEX] = 0\n",
    "    nth_hour = start_time[HOUR_INDEX]\n",
    "    start_time = time.mktime(start_time)\n",
    "    start_date = date.fromtimestamp(start_time)\n",
    "    print start_date\n",
    "    print \"Starting from time %s\" % time.strftime(\"%Y-%m-%d %H:%M:%S\", time.localtime(start_time))\n",
    "    return\n",
    "    time_format = \"%Y-%m-%d %H:%M:%S\"\n",
    "\n",
    "    while len(line) != 0:\n",
    "        tweet = json.loads(line)\n",
    "        line = f.readline()\n",
    "        tweet_time = tweet['firstpost_date']\n",
    "        tweet_hour = time.localtime(tweet_time).tm_hour\n",
    "        if tweet_hour != nth_hour or start_date != date.fromtimestamp(float(tweet_time)):\n",
    "            print \"Finished processing %d tweets from hour %d, next date time %s\" %\\\n",
    "                  (n_tweets, nth_hour, time.strftime(time_format, time.localtime(tweet_time)))\n",
    "            # update output\n",
    "            new_hour = np.array([[n_tweets, n_retweets, sum(n_followers), max(n_followers), nth_hour]], dtype='int')\n",
    "            output = np.append(output, new_hour, axis=0)\n",
    "            # clear & update hourly variables\n",
    "            num_window += 1\n",
    "            n_tweets = 0 # number of tweets per hour\n",
    "            n_followers = {} # number of followers of users posting the tweets per hour\n",
    "            n_retweets = 0 # number of retweets per hour\n",
    "            nth_hour = tweet_hour  # hour of the day\n",
    "\n",
    "        # extract features\n",
    "        n_tweets += 1\n",
    "        n_retweets += tweet['tweet']['retweet_count']\n",
    "        n_followers[tweet['tweet']['user']['id']] = tweet['tweet']['user']['followers_count']\n",
    "        user_follower[tweet['tweet']['user']['id']] = tweet['tweet']['user']['followers_count']\n",
    "        start_date = date.fromtimestamp(float(tweet_time))\n",
    "\n",
    "    print \"Outputting to '%s' ...\" % o_file\n",
    "    with open('data/' + o_file, 'w') as of:\n",
    "        np.savetxt(o_file, output, delimiter=',')\n",
    "\n",
    "    print \"--------------------\"\n",
    "    print \"Total number of tweets %d\" % int(np.sum(output[:, 0]))\n",
    "    print \"Average number of tweets per hour %f\" % np.mean(output[:, 0])\n",
    "    print \"Average number of retweets %f\" % float(np.sum(output[:, 1])) / np.sum(output[:, 0])\n",
    "    print \"Average number of followers of users (%d) %f\" %\\\n",
    "          (len(user_follower), float(sum(user_follower.values()) / float(len(user_follower))))\n",
    "\n"
   ]
  }
 ],
 "metadata": {
  "kernelspec": {
   "display_name": "Python 2",
   "language": "python",
   "name": "python2"
  },
  "language_info": {
   "codemirror_mode": {
    "name": "ipython",
    "version": 2
   },
   "file_extension": ".py",
   "mimetype": "text/x-python",
   "name": "python",
   "nbconvert_exporter": "python",
   "pygments_lexer": "ipython2",
   "version": "2.7.11"
  }
 },
 "nbformat": 4,
 "nbformat_minor": 0
}
