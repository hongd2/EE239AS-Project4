{
 "cells": [
  {
   "cell_type": "code",
   "execution_count": 57,
   "metadata": {
    "collapsed": false
   },
   "outputs": [
    {
     "name": "stdout",
     "output_type": "stream",
     "text": [
      "0.0\n",
      "0.00223214285714\n",
      "0.0\n",
      "0.0\n",
      "0.0\n",
      "0.00163666121113\n"
     ]
    }
   ],
   "source": [
    "from os import listdir\n",
    "import numpy as np\n",
    "import pandas as pd\n",
    "from sklearn import datasets, linear_model\n",
    "import matplotlib.pyplot as plt\n",
    "\n",
    "# directory name\n",
    "path = 'data/'\n",
    "# hashtag name\n",
    "hashtag = []\n",
    "# csv file name\n",
    "csv = []\n",
    "files = listdir(path)\n",
    "# append csv names into list\n",
    "for f in files:\n",
    "    if f.endswith(\".csv\"):\n",
    "        hashtag.append(f[7:-4])\n",
    "        csv.append(path + f)\n",
    "\n",
    "# start the training per hashtag file\n",
    "col_names = [\"n_tweets\", \"n_retweets\", \"sum_followers\", \"max_followers\", \"hour\"]\n",
    "\n",
    "for c in csv:\n",
    "    csv_df = pd.read_csv(c, header=None, names=col_names)\n",
    "    \n",
    "    #regr = linear_model.LinearRegression()\n",
    "\n",
    "    #dataX = csv_df[['n_retweets','sum_followers', 'max_followers', 'hour']]\n",
    "    #dataX = csv_df[['n_retweets','sum_followers', 'max_followers']]\n",
    "    dataX = csv_df[['n_retweets','sum_followers', 'hour']]\n",
    "    \n",
    "    dataY = csv_df[[\"n_tweets\"]]\n",
    "    \n",
    "    score = 0\n",
    "    for n in range(1, csv_df.shape[0]):\n",
    "        model = linear_model.LinearRegression()\n",
    "        model.fit(dataX.iloc[n-1].reshape(1,-1), dataY.iloc[n-1].reshape(1,))\n",
    "        score = score + model.score(dataX.iloc[n].reshape(1,-1), dataY.iloc[n].reshape(1,))\n",
    "    score = score/csv_df.shape[0]\n",
    "    print(score)\n",
    "    \n",
    "    #break #remove to run all for all files\n",
    "    \n",
    "    #regr.fit(dataX, dataY)\n",
    "    #regr.fit(dataX[0:100],dataY[0:100])\n",
    "    #print regr.score(dataX[100:],dataY[100:])\n",
    "\n",
    "    #break #remove to run all for all files\n",
    "    \n",
    "    \n"
   ]
  },
  {
   "cell_type": "code",
   "execution_count": null,
   "metadata": {
    "collapsed": true
   },
   "outputs": [],
   "source": []
  }
 ],
 "metadata": {
  "kernelspec": {
   "display_name": "Python 2",
   "language": "python",
   "name": "python2"
  },
  "language_info": {
   "codemirror_mode": {
    "name": "ipython",
    "version": 2
   },
   "file_extension": ".py",
   "mimetype": "text/x-python",
   "name": "python",
   "nbconvert_exporter": "python",
   "pygments_lexer": "ipython2",
   "version": "2.7.11"
  }
 },
 "nbformat": 4,
 "nbformat_minor": 0
}
