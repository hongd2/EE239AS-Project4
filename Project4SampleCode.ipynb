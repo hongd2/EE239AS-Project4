{
 "cells": [
  {
   "cell_type": "code",
   "execution_count": 6,
   "metadata": {
    "collapsed": false
   },
   "outputs": [
    {
     "name": "stdout",
     "output_type": "stream",
     "text": [
      "LeGarrette Blount does the Ray Lewis Dance #ThrowbackThursday https://t.co/F5FX5KVmdX\n",
      "Hope to see it at least 3 times tomorrow. \n",
      "#GoPatriots\n",
      "1420835445\n"
     ]
    },
    {
     "data": {
      "text/plain": [
       "[u'firstpost_date',\n",
       " u'author',\n",
       " u'url',\n",
       " u'tweet',\n",
       " u'title',\n",
       " u'original_author',\n",
       " u'citation_date',\n",
       " u'metrics',\n",
       " u'highlight',\n",
       " u'type',\n",
       " u'citation_url']"
      ]
     },
     "execution_count": 6,
     "metadata": {},
     "output_type": "execute_result"
    }
   ],
   "source": [
    "import json\n",
    "import datetime, time\n",
    "\n",
    "\n",
    "f = open('tweet_data/tweets_#gopatriots.txt')\n",
    "\n",
    "line = f.readline()\n",
    "\n",
    "import json\n",
    "import pprint\n",
    "pp = pprint.PrettyPrinter(indent=4)\n",
    "tweet = json.loads(line)\n",
    "\n",
    "print tweet['tweet']['text']\n",
    "print tweet['firstpost_date']\n",
    "# pp.pprint(tweet)\n",
    "tweet.keys()"
   ]
  },
  {
   "cell_type": "code",
   "execution_count": null,
   "metadata": {
    "collapsed": true
   },
   "outputs": [],
   "source": [
    "tweets = []\n",
    "while len(line)!=0:\n",
    "    tweet = json.loads(line)\n",
    "    tweets.append(tweet)\n",
    "    line = f.readline()\n",
    "\n",
    "start_date = datetime.datetime(2015,01,01, 12,0,0)\n",
    "end_date = datetime.datetime(2015,02,01, 15,0,0)\n",
    "mintime = int(time.mktime(start_date.timetuple()))\n",
    "maxtime = int(time.mktime(end_date.timetuple()))"
   ]
  },
  {
   "cell_type": "code",
   "execution_count": null,
   "metadata": {
    "collapsed": true
   },
   "outputs": [],
   "source": [
    "num_tweets = len(tweets)\n",
    "num_window = 0\n",
    "\n",
    "max_followers = 0\n",
    "for i in range(0, num_tweets):\n",
    "    tweet = tweets[i]\n",
    "    tweet_time = tweet['firstpost_date']\n",
    "    if tweet_time >= mintime:\n",
    "        if tweet_time >= maxtime:\n",
    "            break;\n",
    "        num_window += 1\n",
    "        max_followers = max(max_followers, tweet['tweet']['user']['followers_count'])"
   ]
  }
 ],
 "metadata": {
  "kernelspec": {
   "display_name": "Python 2",
   "language": "python",
   "name": "python2"
  },
  "language_info": {
   "codemirror_mode": {
    "name": "ipython",
    "version": 2
   },
   "file_extension": ".py",
   "mimetype": "text/x-python",
   "name": "python",
   "nbconvert_exporter": "python",
   "pygments_lexer": "ipython2",
   "version": "2.7.11"
  }
 },
 "nbformat": 4,
 "nbformat_minor": 0
}
