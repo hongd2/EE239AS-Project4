{
 "cells": [
  {
   "cell_type": "code",
   "execution_count": 2,
   "metadata": {
    "collapsed": true
   },
   "outputs": [],
   "source": [
    "import matplotlib.pyplot as plt\n",
    "import pandas\n",
    "import os\n",
    "import numpy as np\n",
    "import string\n",
    "from sklearn.datasets import fetch_20newsgroups\n",
    "from sklearn.feature_extraction.text import CountVectorizer\n",
    "from sklearn.feature_extraction import text\n",
    "from sklearn.feature_extraction.text import TfidfVectorizer, TfidfTransformer\n",
    "from sklearn.svm import LinearSVC\n",
    "from sklearn.decomposition import TruncatedSVD\n",
    "import nltk.data\n",
    "from nltk import stem\n",
    "import nltk\n",
    "from nltk import word_tokenize          \n",
    "from nltk.stem.porter import PorterStemmer\n",
    "from nltk.stem.lancaster import LancasterStemmer\n",
    "from nltk.tokenize import TweetTokenizer\n",
    "from sklearn import metrics\n",
    "from sklearn.metrics import roc_curve\n",
    "from sklearn.cross_validation import cross_val_predict\n",
    "\n",
    "import json\n",
    "import time\n",
    "from datetime import date\n",
    "import pprint\n",
    "from os import listdir\n",
    "from feature_extract import feature_extract\n",
    "\n",
    "\n"
   ]
  },
  {
   "cell_type": "code",
   "execution_count": 3,
   "metadata": {
    "collapsed": false
   },
   "outputs": [
    {
     "name": "stdout",
     "output_type": "stream",
     "text": [
      "LeGarrette Blount does the Ray Lewis Dance #ThrowbackThursday https://t.co/F5FX5KVmdX\n",
      "Hope to see it at least 3 times tomorrow. \n",
      "#GoPatriots\n",
      "1420835445\n",
      "dict_keys(['tweet', 'citation_url', 'original_author', 'citation_date', 'title', 'metrics', 'type', 'url', 'firstpost_date', 'highlight', 'author'])\n"
     ]
    }
   ],
   "source": [
    "f = open('../tweet_data/tweets_#gopatriots.txt')\n",
    "\n",
    "line = f.readline()\n",
    "\n",
    "pp = pprint.PrettyPrinter(indent=4)\n",
    "tweet = json.loads(line)\n",
    "\n",
    "print (tweet['tweet']['text'])\n",
    "print (tweet['firstpost_date'])\n",
    "# pp.pprint(tweet)\n",
    "print(tweet.keys())\n",
    "\n",
    "f.close()\n"
   ]
  },
  {
   "cell_type": "code",
   "execution_count": 20,
   "metadata": {
    "collapsed": false
   },
   "outputs": [
    {
     "name": "stdout",
     "output_type": "stream",
     "text": [
      "tweets_#gopatriots.txt 188136\n",
      "tweets_#gopatriots.txt 26232\n"
     ]
    }
   ],
   "source": [
    "'''for index, filename in enumerate(['tweets_#gohawks.txt', 'tweets_#gopatriots.txt']):\n",
    "    #f_output = open('tweet_text_' + str(index) + '/text.txt', 'w')\n",
    "    #f_output = open('tweets_' + str(index) + '.txt', 'w')\n",
    "    f_handle = open('../tweet_data/'+filename, encoding=\"utf8\")\n",
    "    \n",
    "    no_lines = 0\n",
    "    line = f_handle.readline()\n",
    "    #for line in f_handle.readline():\n",
    "    while len(line) != 0:\n",
    "        tweet = json.loads(line)\n",
    "        line = f_handle.readline()\n",
    "        tweet_text = tweet['tweet']['text'].lower()\n",
    "        f_output.write(tweet_text.replace('#gohawks','').replace('#gopatriots','') + '\\n')\n",
    "        no_lines += 1\n",
    "    print (filename, no_lines)\n",
    "    f_handle.close()\n",
    "    #f_output.close()\n",
    "    '''\n",
    "    \n",
    "\n",
    "f_handle = open('../tweet_data/tweets_#gohawks.txt')#, encoding=\"utf8\")\n",
    "no_lines = 0\n",
    "line = f_handle.readline()\n",
    "#for line in f_handle.readline():\n",
    "while len(line) != 0:\n",
    "    tweet = json.loads(line)\n",
    "    tweet_text = tweet['tweet']['text'].lower()\n",
    "    f_output = open('tweet_text_data/hawks/file_' + str(no_lines) + '.txt', 'w')\n",
    "    f_output.write(tweet_text.replace('#gohawks','').replace('#gopatriots',''))\n",
    "    f_output.close()\n",
    "    no_lines += 1\n",
    "    line = f_handle.readline()\n",
    "print (filename, no_lines)\n",
    "f_handle.close()\n",
    "\n",
    "f_handle = open('../tweet_data/tweets_#gopatriots.txt')#, encoding=\"utf8\")\n",
    "no_lines = 0\n",
    "line = f_handle.readline()\n",
    "#for line in f_handle.readline():\n",
    "while len(line) != 0:\n",
    "    tweet = json.loads(line)\n",
    "    tweet_text = tweet['tweet']['text'].lower()\n",
    "    f_output = open('tweet_text_data/patriots/file_' + str(no_lines) + '.txt', 'w')\n",
    "    f_output.write(tweet_text.replace('#gohawks','').replace('#gopatriots',''))\n",
    "    f_output.close()\n",
    "    no_lines += 1\n",
    "    line = f_handle.readline()\n",
    "print (filename, no_lines)\n",
    "f_handle.close()"
   ]
  },
  {
   "cell_type": "code",
   "execution_count": 22,
   "metadata": {
    "collapsed": false
   },
   "outputs": [],
   "source": [
    "# number of tweets:\n",
    "# tweets_#gohawks.txt 188136\n",
    "# tweets_#gopatriots.txt 26232\n",
    "# \n",
    "from sklearn.datasets import load_files\n",
    "\n",
    "tknzr = TweetTokenizer()\n",
    "stemmer = PorterStemmer()\n",
    "def stem_tokens(tokens, stemmer):\n",
    "    stemmed = []\n",
    "    for item in tokens:\n",
    "        stemmed.append(stemmer.stem(item))\n",
    "    return stemmed\n",
    "def tokenize(text):\n",
    "    text = \"\".join([ch for ch in text if ch not in string.punctuation])\n",
    "    tokens = nltk.word_tokenize(text)\n",
    "    #tokens = tknzr.tokenize(file)\n",
    "    stems = stem_tokens(tokens, stemmer)\n",
    "    return stems\n",
    "\n",
    "stop_words = text.ENGLISH_STOP_WORDS\n",
    "vectorizer = TfidfVectorizer(min_df=1, stop_words=\"english\", tokenizer = tokenize)#stop_words)\n",
    "#vectorizer = CountVectorizer()\n",
    "\n",
    "tweet_dataset = load_files(container_path='tweet_text_data/')\n",
    "\n",
    "X = vectorizer.fit_transform(tweet_dataset.data)\n"
   ]
  },
  {
   "cell_type": "code",
   "execution_count": 23,
   "metadata": {
    "collapsed": false
   },
   "outputs": [
    {
     "name": "stdout",
     "output_type": "stream",
     "text": [
      "(214368, 174732)\n",
      "[0 0 1 ..., 0 0 1]\n"
     ]
    }
   ],
   "source": [
    "print(X.shape)\n",
    "print(tweet_dataset.target)"
   ]
  },
  {
   "cell_type": "code",
   "execution_count": 25,
   "metadata": {
    "collapsed": false
   },
   "outputs": [],
   "source": [
    "from sklearn.linear_model import LogisticRegression\n",
    "from sklearn.cross_validation import cross_val_predict, cross_val_score\n",
    "\n",
    "LR = LogisticRegression()\n",
    "LR = LR.fit(X, tweet_dataset.target)\n",
    "\n",
    "CVP = cross_val_predict(estimator=LR, X=X, y=tweet_dataset.target, cv=10, n_jobs=1)\n",
    "CVS = cross_val_score(estimator=LR, X=X, y=tweet_dataset.target, cv=10, n_jobs=1)"
   ]
  },
  {
   "cell_type": "code",
   "execution_count": 33,
   "metadata": {
    "collapsed": false,
    "scrolled": true
   },
   "outputs": [
    {
     "name": "stdout",
     "output_type": "stream",
     "text": [
      "10-Fold Cross Validation Scores:\n",
      "\tIteration 0: 91.11%\n",
      "\tIteration 1: 91.70%\n",
      "\tIteration 2: 91.54%\n",
      "\tIteration 3: 91.53%\n",
      "\tIteration 4: 91.51%\n",
      "\tIteration 5: 91.44%\n",
      "\tIteration 6: 91.48%\n",
      "\tIteration 7: 91.45%\n",
      "\tIteration 8: 91.59%\n",
      "\tIteration 9: 91.40%\n",
      "Mean accuracy: 91.47%\n"
     ]
    }
   ],
   "source": [
    "print(\"10-Fold Cross Validation Scores:\")\n",
    "for index, entry in enumerate(CVS):\n",
    "    print(\"\\tIteration %d: %.02f%%\"%(index,100*entry))\n",
    "\n",
    "print(\"Mean accuracy: %.02f%%\" % (100*np.mean(CVS)))"
   ]
  }
 ],
 "metadata": {
  "kernelspec": {
   "display_name": "Python 3",
   "language": "python",
   "name": "python3"
  },
  "language_info": {
   "codemirror_mode": {
    "name": "ipython",
    "version": 3
   },
   "file_extension": ".py",
   "mimetype": "text/x-python",
   "name": "python",
   "nbconvert_exporter": "python",
   "pygments_lexer": "ipython3",
   "version": "3.4.2"
  }
 },
 "nbformat": 4,
 "nbformat_minor": 0
}
